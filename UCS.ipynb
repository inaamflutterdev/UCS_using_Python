{
  "nbformat": 4,
  "nbformat_minor": 0,
  "metadata": {
    "colab": {
      "provenance": []
    },
    "kernelspec": {
      "name": "python3",
      "display_name": "Python 3"
    },
    "language_info": {
      "name": "python"
    }
  },
  "cells": [
    {
      "cell_type": "code",
      "execution_count": 1,
      "metadata": {
        "colab": {
          "base_uri": "https://localhost:8080/"
        },
        "id": "wXbJM3tkVAPz",
        "outputId": "bcb72c2e-b7ee-4970-c124-f0829210066a"
      },
      "outputs": [
        {
          "output_type": "stream",
          "name": "stdout",
          "text": [
            "Shortest path cost from A to F is 6.\n"
          ]
        }
      ],
      "source": [
        "import heapq\n",
        "\n",
        "# Sample graph represented as an adjacency list with weighted edges\n",
        "graph = {\n",
        "    'A': [('B', 4), ('C', 2)],\n",
        "    'B': [('A', 4), ('D', 5), ('E', 1)],\n",
        "    'C': [('A', 2), ('F', 4)],\n",
        "    'D': [('B', 5)],\n",
        "    'E': [('B', 1), ('F', 3)],\n",
        "    'F': [('C', 4), ('E', 3)]\n",
        "}\n",
        "\n",
        "def ucs(graph, start, goal):\n",
        "    # Priority queue (heap) to store nodes to explore\n",
        "    open_set = [(0, start)]  # Each element is a tuple (cost, node)\n",
        "    visited = set()\n",
        "\n",
        "    while open_set:\n",
        "        cost, current_node = heapq.heappop(open_set)\n",
        "\n",
        "        if current_node in visited:\n",
        "            continue\n",
        "\n",
        "        visited.add(current_node)\n",
        "\n",
        "        if current_node == goal:\n",
        "            return cost\n",
        "\n",
        "        for neighbor, edge_cost in graph[current_node]:\n",
        "            if neighbor not in visited:\n",
        "                heapq.heappush(open_set, (cost + edge_cost, neighbor))\n",
        "\n",
        "    return None  # Goal not reachable\n",
        "\n",
        "if __name__ == \"__main__\":\n",
        "    start_node = 'A'\n",
        "    goal_node = 'F'\n",
        "\n",
        "    result = ucs(graph, start_node, goal_node)\n",
        "\n",
        "    if result is not None:\n",
        "        print(f\"Shortest path cost from {start_node} to {goal_node} is {result}.\")\n",
        "    else:\n",
        "        print(f\"No path from {start_node} to {goal_node} exists.\")\n"
      ]
    }
  ]
}